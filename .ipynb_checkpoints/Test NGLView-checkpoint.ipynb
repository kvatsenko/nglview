{
 "cells": [
  {
   "cell_type": "code",
   "execution_count": 2,
   "id": "487c2e54",
   "metadata": {},
   "outputs": [
    {
     "data": {
      "application/vnd.jupyter.widget-view+json": {
       "model_id": "fc46e1a0ec4e43759fd6f81298240d36",
       "version_major": 2,
       "version_minor": 0
      },
      "text/plain": [
       "NGLWidget()"
      ]
     },
     "metadata": {},
     "output_type": "display_data"
    }
   ],
   "source": [
    "import ssl\n",
    "ssl._create_default_https_context = ssl._create_unverified_context\n",
    "\n",
    "import nglview\n",
    "view = nglview.show_pdbid(\"3pqr\")  # load \"3pqr\" from RCSB PDB and display viewer widget\n",
    "view"
   ]
  },
  {
   "cell_type": "code",
   "execution_count": 3,
   "id": "6f9524b0",
   "metadata": {},
   "outputs": [
    {
     "name": "stdout",
     "output_type": "stream",
     "text": [
      "--2023-04-22 17:03:14--  https://files.rcsb.org/view/2rh1.pdb\n",
      "Resolving files.rcsb.org (files.rcsb.org)... 128.6.158.49\n",
      "Connecting to files.rcsb.org (files.rcsb.org)|128.6.158.49|:443... connected.\n",
      "HTTP request sent, awaiting response... 200 OK\n",
      "Length: unspecified [text/plain]\n",
      "Saving to: ‘2rh1.pdb’\n",
      "\n",
      "2rh1.pdb                [   <=>              ] 367,51K   424KB/s    in 0,9s    \n",
      "\n",
      "2023-04-22 17:03:15 (424 KB/s) - ‘2rh1.pdb’ saved [376326]\n",
      "\n"
     ]
    },
    {
     "data": {
      "application/vnd.jupyter.widget-view+json": {
       "model_id": "8ef00b61b37749c7807d8a841f32dd07",
       "version_major": 2,
       "version_minor": 0
      },
      "text/plain": [
       "NGLWidget()"
      ]
     },
     "metadata": {},
     "output_type": "display_data"
    }
   ],
   "source": [
    "!wget https://files.rcsb.org/view/2rh1.pdb # ссылка для скачивания pdb-структуры\n",
    "\n",
    "view = nglview.show_structure_file('2rh1.pdb')\n",
    "view"
   ]
  },
  {
   "cell_type": "code",
   "execution_count": 1,
   "id": "c183dc44",
   "metadata": {},
   "outputs": [
    {
     "data": {
      "application/vnd.jupyter.widget-view+json": {
       "model_id": "b7b5acb777964d1e9eea13be0de85ce0",
       "version_major": 2,
       "version_minor": 0
      },
      "text/plain": []
     },
     "metadata": {},
     "output_type": "display_data"
    },
    {
     "name": "stdout",
     "output_type": "stream",
     "text": [
      "--2023-04-22 17:14:37--  https://files.rcsb.org/view/2rh1.pdb\r\n"
     ]
    },
    {
     "name": "stderr",
     "output_type": "stream",
     "text": [
      "/Library/Frameworks/Python.framework/Versions/3.11/lib/python3.11/site-packages/MDAnalysis/topology/TPRParser.py:160: DeprecationWarning: 'xdrlib' is deprecated and slated for removal in Python 3.13\n",
      "  import xdrlib\n"
     ]
    },
    {
     "name": "stdout",
     "output_type": "stream",
     "text": [
      "Resolving files.rcsb.org (files.rcsb.org)... 128.6.158.49\n",
      "Connecting to files.rcsb.org (files.rcsb.org)|128.6.158.49|:443... connected.\n",
      "HTTP request sent, awaiting response... 200 OK\n",
      "Length: unspecified [text/plain]\n",
      "Saving to: ‘2rh1.pdb.2’\n",
      "\n",
      "2rh1.pdb.2              [   <=>              ] 367,51K   643KB/s    in 0,6s    \n",
      "\n",
      "2023-04-22 17:14:38 (643 KB/s) - ‘2rh1.pdb.2’ saved [376326]\n",
      "\n"
     ]
    },
    {
     "name": "stderr",
     "output_type": "stream",
     "text": [
      "/Library/Frameworks/Python.framework/Versions/3.11/lib/python3.11/site-packages/MDAnalysis/coordinates/PDB.py:1129: UserWarning: Found no information for attr: 'formalcharges' Using default value of '0'\n",
      "  warnings.warn(\"Found no information for attr: '{}'\"\n"
     ]
    },
    {
     "data": {
      "application/vnd.jupyter.widget-view+json": {
       "model_id": "5351c10eba7e43008016a1e0378c57b5",
       "version_major": 2,
       "version_minor": 0
      },
      "text/plain": [
       "NGLWidget()"
      ]
     },
     "metadata": {},
     "output_type": "display_data"
    }
   ],
   "source": [
    "import nglview as nv\n",
    "import MDAnalysis as mda\n",
    "\n",
    "!wget https://files.rcsb.org/view/2rh1.pdb # ссылка для скачивания pdb-структуры\n",
    "\n",
    "s=mda.Universe(\"2rh1.pdb\")\n",
    "prot=s.select_atoms('protein and resid 29:342')\n",
    "lig = s.atoms.select_atoms('resname CAU')\n",
    "prot.write(\"2rh1_prot.pdb\")\n",
    "lig.write(\"2rh1_ligand.pdb\")\n",
    "view = nv.show_structure_file('2rh1_ligand.pdb')\n",
    "view"
   ]
  },
  {
   "cell_type": "code",
   "execution_count": 11,
   "id": "57c852e4",
   "metadata": {},
   "outputs": [
    {
     "ename": "AttributeError",
     "evalue": "module 'nglview' has no attribute 'show_py3dmol'",
     "output_type": "error",
     "traceback": [
      "\u001b[0;31m---------------------------------------------------------------------------\u001b[0m",
      "\u001b[0;31mAttributeError\u001b[0m                            Traceback (most recent call last)",
      "Cell \u001b[0;32mIn[11], line 14\u001b[0m\n\u001b[1;32m     11\u001b[0m methamphetamine_3D\u001b[38;5;241m.\u001b[39mzoomTo()\n\u001b[1;32m     13\u001b[0m \u001b[38;5;66;03m# Display the 3D structure using nglview\u001b[39;00m\n\u001b[0;32m---> 14\u001b[0m view \u001b[38;5;241m=\u001b[39m \u001b[43mnglview\u001b[49m\u001b[38;5;241;43m.\u001b[39;49m\u001b[43mshow_py3dmol\u001b[49m(methamphetamine_3D)\n\u001b[1;32m     15\u001b[0m view\n",
      "\u001b[0;31mAttributeError\u001b[0m: module 'nglview' has no attribute 'show_py3dmol'"
     ]
    }
   ],
   "source": []
  },
  {
   "cell_type": "code",
   "execution_count": 1,
   "id": "9295fb70",
   "metadata": {},
   "outputs": [
    {
     "data": {
      "application/vnd.jupyter.widget-view+json": {
       "model_id": "8fdcaaa7acdb4634912c239293d74fe9",
       "version_major": 2,
       "version_minor": 0
      },
      "text/plain": []
     },
     "metadata": {},
     "output_type": "display_data"
    },
    {
     "ename": "AttributeError",
     "evalue": "module 'pubchempy' has no attribute 'get_mol'",
     "output_type": "error",
     "traceback": [
      "\u001b[0;31m---------------------------------------------------------------------------\u001b[0m",
      "\u001b[0;31mAttributeError\u001b[0m                            Traceback (most recent call last)",
      "Cell \u001b[0;32mIn[1], line 9\u001b[0m\n\u001b[1;32m      6\u001b[0m cid \u001b[38;5;241m=\u001b[39m results[\u001b[38;5;241m0\u001b[39m]\u001b[38;5;241m.\u001b[39mcid\n\u001b[1;32m      8\u001b[0m \u001b[38;5;66;03m# Load the 3D structure of methamphetamine from PubChem using its CID\u001b[39;00m\n\u001b[0;32m----> 9\u001b[0m mol \u001b[38;5;241m=\u001b[39m \u001b[43mpcp\u001b[49m\u001b[38;5;241;43m.\u001b[39;49m\u001b[43mget_mol\u001b[49m(cid, \u001b[38;5;124m'\u001b[39m\u001b[38;5;124m3d\u001b[39m\u001b[38;5;124m'\u001b[39m)\n\u001b[1;32m     10\u001b[0m xyz \u001b[38;5;241m=\u001b[39m mol[\u001b[38;5;124m'\u001b[39m\u001b[38;5;124mconformers\u001b[39m\u001b[38;5;124m'\u001b[39m][\u001b[38;5;241m0\u001b[39m][\u001b[38;5;124m'\u001b[39m\u001b[38;5;124mx\u001b[39m\u001b[38;5;124m'\u001b[39m], mol[\u001b[38;5;124m'\u001b[39m\u001b[38;5;124mconformers\u001b[39m\u001b[38;5;124m'\u001b[39m][\u001b[38;5;241m0\u001b[39m][\u001b[38;5;124m'\u001b[39m\u001b[38;5;124my\u001b[39m\u001b[38;5;124m'\u001b[39m], mol[\u001b[38;5;124m'\u001b[39m\u001b[38;5;124mconformers\u001b[39m\u001b[38;5;124m'\u001b[39m][\u001b[38;5;241m0\u001b[39m][\u001b[38;5;124m'\u001b[39m\u001b[38;5;124mz\u001b[39m\u001b[38;5;124m'\u001b[39m]\n\u001b[1;32m     12\u001b[0m \u001b[38;5;66;03m# Create an NGLView widget and add the methamphetamine structure\u001b[39;00m\n",
      "\u001b[0;31mAttributeError\u001b[0m: module 'pubchempy' has no attribute 'get_mol'"
     ]
    }
   ],
   "source": [
    "import pubchempy as pcp\n",
    "import py3Dmol\n",
    "\n",
    "# Search for methamphetamine by name and retrieve its CID\n",
    "results = pcp.get_compounds('methamphetamine', 'name')\n",
    "cid = results[0].cid\n",
    "\n",
    "# Download the 3D structure of methamphetamine in PDB format\n",
    "pdb_text = pcp.download('PDB', f'{cid}', 'text')\n",
    "\n",
    "# Create a 3D viewer widget and add the methamphetamine structure\n",
    "view = py3Dmol.view()\n",
    "view.addModel(pdb_text, 'pdb')\n",
    "\n",
    "# Set the style for the methamphetamine structure\n",
    "view.setStyle({'cartoon': {'color': 'spectrum'}})\n",
    "\n",
    "# Center the view and display the viewer widget\n",
    "view.zoomTo()\n",
    "view.show()"
   ]
  },
  {
   "cell_type": "code",
   "execution_count": null,
   "id": "966a8dd3",
   "metadata": {},
   "outputs": [],
   "source": []
  }
 ],
 "metadata": {
  "kernelspec": {
   "display_name": "Python 3 (ipykernel)",
   "language": "python",
   "name": "python3"
  },
  "language_info": {
   "codemirror_mode": {
    "name": "ipython",
    "version": 3
   },
   "file_extension": ".py",
   "mimetype": "text/x-python",
   "name": "python",
   "nbconvert_exporter": "python",
   "pygments_lexer": "ipython3",
   "version": "3.11.1"
  }
 },
 "nbformat": 4,
 "nbformat_minor": 5
}
